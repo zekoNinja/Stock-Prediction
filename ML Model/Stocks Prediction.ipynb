{
 "cells": [
  {
   "cell_type": "code",
   "execution_count": 1,
   "id": "e26419a9",
   "metadata": {},
   "outputs": [
    {
     "name": "stdout",
     "output_type": "stream",
     "text": [
      "WARNING:tensorflow:From D:\\Anacondda\\Lib\\site-packages\\keras\\src\\losses.py:2976: The name tf.losses.sparse_softmax_cross_entropy is deprecated. Please use tf.compat.v1.losses.sparse_softmax_cross_entropy instead.\n",
      "\n"
     ]
    }
   ],
   "source": [
    "# Import our dependencies\n",
    "\n",
    "from sklearn.preprocessing import MinMaxScaler\n",
    "\n",
    "from keras.models import Sequential\n",
    "from keras.layers import LSTM\n",
    "from keras.layers import Dropout\n",
    "from keras.layers import Dense"
   ]
  },
  {
   "cell_type": "code",
   "execution_count": 2,
   "id": "c7787b78",
   "metadata": {},
   "outputs": [],
   "source": [
    "# Import our dependencies\n",
    "\n",
    "import pandas as pd\n",
    "import numpy as np\n",
    "import matplotlib.pyplot as plt\n",
    "from pathlib import Path"
   ]
  },
  {
   "cell_type": "code",
   "execution_count": 3,
   "id": "e1623105",
   "metadata": {},
   "outputs": [],
   "source": [
    "# Import our dependencies\n",
    "from sklearn.model_selection import train_test_split\n",
    "from sklearn.preprocessing import StandardScaler,OneHotEncoder\n",
    "import tensorflow as tf\n",
    "\n"
   ]
  },
  {
   "cell_type": "code",
   "execution_count": 20,
   "id": "08ab8bcc",
   "metadata": {},
   "outputs": [
    {
     "name": "stdout",
     "output_type": "stream",
     "text": [
      "AMZN Data:\n",
      "MSFT :522,\n",
      " AMZN:522,\n",
      " VALE:522,\n",
      " AAPL:522 \n"
     ]
    }
   ],
   "source": [
    "# List of tickers\n",
    "tickers = ['AMZN', 'MSFT', 'AAPL', 'VALE']\n",
    "\n",
    "# Dictionary to store DataFrames\n",
    "stock_data = {}\n",
    "\n",
    "# Loop through each ticker and read the corresponding CSV file\n",
    "for ticker in tickers:\n",
    "    ticker_path = Path(f\"../Resources/{ticker}.csv\")\n",
    "    stock_data[ticker] = pd.read_csv(ticker_path)\n",
    "    stock_data[ticker][\"Ticker\"] = ticker\n",
    "\n",
    "# Access the DataFrames using the tickers\n",
    "amzn_stock = stock_data['AMZN']\n",
    "msft_stock = stock_data['MSFT']\n",
    "vale_stock = stock_data['VALE']\n",
    "Apple_stock = stock_data['AAPL']\n",
    "\n",
    "# Example: Display data for AMZN\n",
    "print(\"AMZN Data:\")\n",
    "print(f\"MSFT :{len(msft_stock)},\\n AMZN:{len(amzn_stock)},\\n VALE:{len(vale_stock)},\\n AAPL:{len(Apple_stock)} \")"
   ]
  },
  {
   "cell_type": "code",
   "execution_count": 23,
   "id": "9859987a",
   "metadata": {},
   "outputs": [
    {
     "data": {
      "text/html": [
       "<div>\n",
       "<style scoped>\n",
       "    .dataframe tbody tr th:only-of-type {\n",
       "        vertical-align: middle;\n",
       "    }\n",
       "\n",
       "    .dataframe tbody tr th {\n",
       "        vertical-align: top;\n",
       "    }\n",
       "\n",
       "    .dataframe thead th {\n",
       "        text-align: right;\n",
       "    }\n",
       "</style>\n",
       "<table border=\"1\" class=\"dataframe\">\n",
       "  <thead>\n",
       "    <tr style=\"text-align: right;\">\n",
       "      <th></th>\n",
       "      <th>Date</th>\n",
       "      <th>Open</th>\n",
       "      <th>High</th>\n",
       "      <th>Low</th>\n",
       "      <th>Close</th>\n",
       "      <th>Adj Close</th>\n",
       "      <th>Volume</th>\n",
       "      <th>Ticker</th>\n",
       "    </tr>\n",
       "  </thead>\n",
       "  <tbody>\n",
       "    <tr>\n",
       "      <th>0</th>\n",
       "      <td>2022-01-03</td>\n",
       "      <td>177.830002</td>\n",
       "      <td>182.880005</td>\n",
       "      <td>177.710007</td>\n",
       "      <td>182.009995</td>\n",
       "      <td>179.953873</td>\n",
       "      <td>104487900</td>\n",
       "      <td>AAPL</td>\n",
       "    </tr>\n",
       "    <tr>\n",
       "      <th>1</th>\n",
       "      <td>2022-01-04</td>\n",
       "      <td>182.630005</td>\n",
       "      <td>182.940002</td>\n",
       "      <td>179.119995</td>\n",
       "      <td>179.699997</td>\n",
       "      <td>177.669968</td>\n",
       "      <td>99310400</td>\n",
       "      <td>AAPL</td>\n",
       "    </tr>\n",
       "    <tr>\n",
       "      <th>2</th>\n",
       "      <td>2022-01-05</td>\n",
       "      <td>179.610001</td>\n",
       "      <td>180.169998</td>\n",
       "      <td>174.639999</td>\n",
       "      <td>174.919998</td>\n",
       "      <td>172.943985</td>\n",
       "      <td>94537600</td>\n",
       "      <td>AAPL</td>\n",
       "    </tr>\n",
       "    <tr>\n",
       "      <th>3</th>\n",
       "      <td>2022-01-06</td>\n",
       "      <td>172.699997</td>\n",
       "      <td>175.300003</td>\n",
       "      <td>171.639999</td>\n",
       "      <td>172.000000</td>\n",
       "      <td>170.056976</td>\n",
       "      <td>96904000</td>\n",
       "      <td>AAPL</td>\n",
       "    </tr>\n",
       "    <tr>\n",
       "      <th>4</th>\n",
       "      <td>2022-01-07</td>\n",
       "      <td>172.889999</td>\n",
       "      <td>174.139999</td>\n",
       "      <td>171.029999</td>\n",
       "      <td>172.169998</td>\n",
       "      <td>170.225037</td>\n",
       "      <td>86709100</td>\n",
       "      <td>AAPL</td>\n",
       "    </tr>\n",
       "  </tbody>\n",
       "</table>\n",
       "</div>"
      ],
      "text/plain": [
       "         Date        Open        High         Low       Close   Adj Close  \\\n",
       "0  2022-01-03  177.830002  182.880005  177.710007  182.009995  179.953873   \n",
       "1  2022-01-04  182.630005  182.940002  179.119995  179.699997  177.669968   \n",
       "2  2022-01-05  179.610001  180.169998  174.639999  174.919998  172.943985   \n",
       "3  2022-01-06  172.699997  175.300003  171.639999  172.000000  170.056976   \n",
       "4  2022-01-07  172.889999  174.139999  171.029999  172.169998  170.225037   \n",
       "\n",
       "      Volume Ticker  \n",
       "0  104487900   AAPL  \n",
       "1   99310400   AAPL  \n",
       "2   94537600   AAPL  \n",
       "3   96904000   AAPL  \n",
       "4   86709100   AAPL  "
      ]
     },
     "execution_count": 23,
     "metadata": {},
     "output_type": "execute_result"
    }
   ],
   "source": [
    "Apple_stock.head()"
   ]
  },
  {
   "cell_type": "code",
   "execution_count": null,
   "id": "88771d89",
   "metadata": {},
   "outputs": [],
   "source": []
  }
 ],
 "metadata": {
  "kernelspec": {
   "display_name": "Python 3 (ipykernel)",
   "language": "python",
   "name": "python3"
  },
  "language_info": {
   "codemirror_mode": {
    "name": "ipython",
    "version": 3
   },
   "file_extension": ".py",
   "mimetype": "text/x-python",
   "name": "python",
   "nbconvert_exporter": "python",
   "pygments_lexer": "ipython3",
   "version": "3.11.7"
  }
 },
 "nbformat": 4,
 "nbformat_minor": 5
}
