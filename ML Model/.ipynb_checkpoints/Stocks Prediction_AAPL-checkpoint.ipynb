{
 "cells": [
  {
   "cell_type": "code",
   "execution_count": null,
   "id": "e26419a9",
   "metadata": {},
   "outputs": [],
   "source": [
    "# Import our dependencies\n",
    "\n",
    "from sklearn.preprocessing import MinMaxScaler\n",
    "\n",
    "from keras.models import Sequential\n",
    "from keras.layers import LSTM\n",
    "from keras.layers import Dropout\n",
    "from keras.layers import Dense"
   ]
  },
  {
   "cell_type": "code",
   "execution_count": null,
   "id": "af2e8da8",
   "metadata": {},
   "outputs": [],
   "source": [
    "%matplotlib inline"
   ]
  },
  {
   "cell_type": "code",
   "execution_count": null,
   "id": "c7787b78",
   "metadata": {},
   "outputs": [],
   "source": [
    "# Import our dependencies\n",
    "\n",
    "import pandas as pd\n",
    "import numpy as np\n",
    "import matplotlib.pyplot as plt\n",
    "from pathlib import Path"
   ]
  },
  {
   "cell_type": "code",
   "execution_count": null,
   "id": "e1623105",
   "metadata": {},
   "outputs": [],
   "source": [
    "# Import our dependencies\n",
    "from sklearn.model_selection import train_test_split\n",
    "from sklearn.preprocessing import StandardScaler,OneHotEncoder\n",
    "import tensorflow as tf\n",
    "\n"
   ]
  },
  {
   "cell_type": "code",
   "execution_count": null,
   "id": "14f3f55a",
   "metadata": {},
   "outputs": [],
   "source": [
    "# List of tickers\n",
    "tickers = ['AMZN', 'MSFT', 'AAPL', 'VALE']\n",
    "\n",
    "# Dictionary to store DataFrames\n",
    "stock_data = {}\n",
    "\n",
    "# Loop through each ticker and read the corresponding CSV file\n",
    "for ticker in tickers:\n",
    "    ticker_path = Path(f\"../Resources/{ticker}.csv\")\n",
    "    stock_data[ticker] = pd.read_csv(ticker_path)\n",
    "    stock_data[ticker][\"Ticker\"] = ticker\n",
    "\n",
    "# Access the DataFrames using the tickers\n",
    "amzn_stock = stock_data['AMZN']\n",
    "msft_stock = stock_data['MSFT']\n",
    "vale_stock = stock_data['VALE']\n",
    "Apple_stock = stock_data['AAPL']\n",
    "\n",
    "#Display data for AMZN\n",
    "print(\"AMZN Data:\")\n",
    "print(f\"MSFT :{len(msft_stock)},\\n AMZN:{len(amzn_stock)},\\n VALE:{len(vale_stock)},\\n AAPL:{len(Apple_stock)} \")"
   ]
  },
  {
   "cell_type": "code",
   "execution_count": null,
   "id": "74a27a39",
   "metadata": {},
   "outputs": [],
   "source": [
    "Apple_stock.head()"
   ]
  },
  {
   "cell_type": "code",
   "execution_count": null,
   "id": "a98f390f",
   "metadata": {},
   "outputs": [],
   "source": [
    "#Using the Open Stock Price to be our traing dataset\n",
    "training_set=Apple_stock.iloc[:,2:3].values\n",
    "\n",
    "training_set"
   ]
  },
  {
   "cell_type": "code",
   "execution_count": null,
   "id": "329c3981",
   "metadata": {},
   "outputs": [],
   "source": [
    "#Scalling our Dataset/Normailzing the data\n",
    "scaler = MinMaxScaler (feature_range=(0,1))\n",
    "scaled_training_set = scaler.fit_transform(training_set)\n",
    "scaled_training_set"
   ]
  },
  {
   "cell_type": "code",
   "execution_count": null,
   "id": "bb1cfd1f",
   "metadata": {},
   "outputs": [],
   "source": [
    "#Setting up our features and target variables\n",
    "\n",
    "X_train = []\n",
    "y_train = []\n",
    "\n",
    "\n",
    "for i in range(60,501):\n",
    "    X_train.append(scaled_training_set[i-60:i,0])\n",
    "    y_train.append(scaled_training_set[i,0])\n",
    "\n",
    "    \n",
    "\n",
    "X_train = np.array(X_train)\n",
    "y_train = np.array(y_train)"
   ]
  },
  {
   "cell_type": "code",
   "execution_count": null,
   "id": "ed1e47f2",
   "metadata": {},
   "outputs": [],
   "source": [
    "Apple_stock.shape"
   ]
  },
  {
   "cell_type": "code",
   "execution_count": null,
   "id": "9bdd377c",
   "metadata": {},
   "outputs": [],
   "source": [
    "print(X_train.shape)\n",
    "print(y_train.shape)"
   ]
  },
  {
   "cell_type": "code",
   "execution_count": null,
   "id": "9ef79273",
   "metadata": {},
   "outputs": [],
   "source": [
    "X_train"
   ]
  },
  {
   "cell_type": "code",
   "execution_count": null,
   "id": "e500fc9d",
   "metadata": {},
   "outputs": [],
   "source": [
    "y_train"
   ]
  },
  {
   "cell_type": "code",
   "execution_count": null,
   "id": "ec46fe24",
   "metadata": {},
   "outputs": [],
   "source": [
    "#Reshaping the dataset\n",
    "X_train=np.reshape(X_train, (X_train.shape[0], X_train.shape[1],1))\n",
    "X_train.shape"
   ]
  },
  {
   "cell_type": "code",
   "execution_count": null,
   "id": "2095584c",
   "metadata": {},
   "outputs": [],
   "source": [
    "regressor = Sequential()\n",
    "regressor"
   ]
  },
  {
   "cell_type": "code",
   "execution_count": null,
   "id": "35434dfc",
   "metadata": {},
   "outputs": [],
   "source": [
    "# Adding Layers into the model \n",
    "\n",
    "regressor.add(LSTM(units=50,return_sequences=True,input_shape=(X_train.shape[1], 1)))\n",
    "regressor.add(Dropout(0.2))\n",
    "\n",
    "regressor.add(LSTM(units=50,return_sequences=True))\n",
    "regressor.add(Dropout(0.2))\n",
    "\n",
    "regressor.add(LSTM(units=50,return_sequences=True))\n",
    "regressor.add(Dropout(0.2))\n",
    "\n",
    "regressor.add(LSTM(units=50))\n",
    "regressor.add(Dropout(0.2))\n",
    "\n",
    "regressor.add(Dense(units=1))"
   ]
  },
  {
   "cell_type": "code",
   "execution_count": null,
   "id": "4725dc83",
   "metadata": {},
   "outputs": [],
   "source": [
    "regressor.compile(optimizer='adam',loss='mean_squared_error')\n",
    "regressor.fit(X_train,y_train,epochs=100,batch_size=32)"
   ]
  },
  {
   "cell_type": "code",
   "execution_count": null,
   "id": "7622c332",
   "metadata": {},
   "outputs": [],
   "source": [
    "# Loading the Stock Prices for Jan-2024\n",
    "AAPL_ticker_test = Path(\"../Resources/AAPL_Test.csv\")\n",
    "AAPL_stock_Test = pd.read_csv(AAPL_ticker_test)\n",
    "AAPL_stock_Test[\"Ticker\"]= \"AAPL_Test\"  \n",
    "\n",
    "AAPL_stock_Test.head()"
   ]
  },
  {
   "cell_type": "code",
   "execution_count": null,
   "id": "8c706b8a",
   "metadata": {},
   "outputs": [],
   "source": [
    "#Extracting our 2024 Data for open price\n",
    "actual_stock_price = AAPL_stock_Test.iloc[:,2:3].values\n",
    "actual_stock_price\n",
    "# actual_stock_price.shape"
   ]
  },
  {
   "cell_type": "code",
   "execution_count": null,
   "id": "a12e5537",
   "metadata": {},
   "outputs": [],
   "source": [
    "#Preping our Data\n",
    "dataset_total=pd.concat((Apple_stock['Open'],AAPL_stock_Test['Open']),axis  =0)\n",
    "inputs=dataset_total[len(dataset_total)-len(AAPL_stock_Test)-60:].values\n",
    "\n",
    "inputs\n",
    "inputs = inputs.reshape(-1,1)\n",
    "inputs= scaler.transform(inputs)\n",
    "\n",
    "\n",
    "X_test = []\n",
    "\n",
    "for i in range(60,81):\n",
    "    X_test.append(inputs[i-60:i,0])\n",
    "X_test= np.array(X_test)\n",
    "X_test= np.reshape(X_test,(X_test.shape[0], X_test.shape[1],1))\n",
    "X_test"
   ]
  },
  {
   "cell_type": "code",
   "execution_count": null,
   "id": "008ad656",
   "metadata": {},
   "outputs": [],
   "source": [
    "actual_stock_price[1]"
   ]
  },
  {
   "cell_type": "code",
   "execution_count": null,
   "id": "8e46222e",
   "metadata": {},
   "outputs": [],
   "source": [
    "X_test[2][-1]"
   ]
  },
  {
   "cell_type": "code",
   "execution_count": null,
   "id": "0bf8a549",
   "metadata": {},
   "outputs": [],
   "source": [
    "inputs.shape"
   ]
  },
  {
   "cell_type": "code",
   "execution_count": null,
   "id": "1c6aeba4",
   "metadata": {},
   "outputs": [],
   "source": [
    "#Predicting the Values for Jan 2024\n",
    "predicted_stock_price = regressor.predict(X_test)\n",
    "predicted_stock_price=scaler.inverse_transform(predicted_stock_price)\n"
   ]
  },
  {
   "cell_type": "code",
   "execution_count": null,
   "id": "b53e91d9",
   "metadata": {},
   "outputs": [],
   "source": [
    "#Plotting the Data\n",
    "\n",
    "plt.plot(actual_stock_price, color ='red', label =\"Actual Open Apple Stock Price\")\n",
    "plt.plot(predicted_stock_price, color ='blue', label =\"Predicted Open Apple Stock Price\")\n",
    "plt.title('Apple Stock Price Prediction')\n",
    "plt.xlabel('Time (days)')\n",
    "plt.ylabel('Apple Stock Price')\n",
    "plt.legend()"
   ]
  },
  {
   "cell_type": "code",
   "execution_count": null,
   "id": "3aa110f7",
   "metadata": {},
   "outputs": [],
   "source": [
    "predicted_stock_price, actual_stock_price"
   ]
  },
  {
   "cell_type": "code",
   "execution_count": null,
   "id": "574d3968",
   "metadata": {},
   "outputs": [],
   "source": [
    "AAPL_stock_Test[\"Predicted Stock Price\"] = predicted_stock_price\n",
    "AAPL_stock_Test"
   ]
  },
  {
   "cell_type": "code",
   "execution_count": null,
   "id": "57aa7663",
   "metadata": {},
   "outputs": [],
   "source": [
    "predicted_stock_price.shape"
   ]
  },
  {
   "cell_type": "code",
   "execution_count": null,
   "id": "c3157a95",
   "metadata": {},
   "outputs": [],
   "source": [
    "from sklearn.metrics import mean_squared_error"
   ]
  },
  {
   "cell_type": "code",
   "execution_count": null,
   "id": "90671e62",
   "metadata": {},
   "outputs": [],
   "source": [
    "mse = mean_squared_error(AAPL_stock_Test[\"Open\"], predicted_stock_price)\n",
    "mse"
   ]
  },
  {
   "cell_type": "code",
   "execution_count": null,
   "id": "3a4e71a3",
   "metadata": {},
   "outputs": [],
   "source": [
    "rmse = np.sqrt(mse)\n",
    "rmse"
   ]
  }
 ],
 "metadata": {
  "kernelspec": {
   "display_name": "Python 3 (ipykernel)",
   "language": "python",
   "name": "python3"
  },
  "language_info": {
   "codemirror_mode": {
    "name": "ipython",
    "version": 3
   },
   "file_extension": ".py",
   "mimetype": "text/x-python",
   "name": "python",
   "nbconvert_exporter": "python",
   "pygments_lexer": "ipython3",
   "version": "3.11.7"
  }
 },
 "nbformat": 4,
 "nbformat_minor": 5
}
